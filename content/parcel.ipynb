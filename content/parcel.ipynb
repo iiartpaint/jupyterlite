{
 "cells": [
  {
   "cell_type": "code",
   "execution_count": null,
   "metadata": {},
   "outputs": [],
   "source": [
    "#!jupyter lite pip index --help"
   ]
  },
  {
   "cell_type": "code",
   "execution_count": null,
   "metadata": {},
   "outputs": [],
   "source": [
    "#! pip3 install requests\n",
    "#!python -m pip install requests"
   ]
  },
  {
   "cell_type": "code",
   "execution_count": 1,
   "metadata": {},
   "outputs": [
    {
     "ename": "<class 'ModuleNotFoundError'>",
     "evalue": "No module named 'requests'",
     "output_type": "error",
     "traceback": [
      "\u001b[0;31m---------------------------------------------------------------------------\u001b[0m",
      "\u001b[0;31mModuleNotFoundError\u001b[0m                       Traceback (most recent call last)",
      "Input \u001b[0;32mIn [1]\u001b[0m, in \u001b[0;36m<cell line: 1>\u001b[0;34m()\u001b[0m\n\u001b[0;32m----> 1\u001b[0m \u001b[38;5;28;01mimport\u001b[39;00m \u001b[38;5;21;01mrequests\u001b[39;00m\n",
      "\u001b[0;31mModuleNotFoundError\u001b[0m: No module named 'requests'"
     ]
    }
   ],
   "source": [
    "import micropip\n",
    "await micropip.install('requests')"
   ]
  },
  {
   "cell_type": "code",
   "execution_count": null,
   "metadata": {},
   "outputs": [],
   "source": [
    "import datetime\n",
    "import csv\n",
    "#import requests\n",
    "from bs4 import BeautifulSoup\n",
    "#from fake_useragent import UserAgent"
   ]
  },
  {
   "cell_type": "code",
   "execution_count": null,
   "metadata": {},
   "outputs": [],
   "source": [
    "def collect_data(city_code='2398'):\n",
    "    cur_time = datetime.datetime.now().strftime('%d_%m_%Y_%H_%M')\n",
    "    ua = UserAgent()\n",
    "    \n",
    "    headers = {\n",
    "        'Accept': 'text/html,application/xhtml+xml,application/xml;q=0.9,image/avif,image/webp,image/apng,*/*;q=0.8,application/signed-exchange;v=b3;q=0.9',\n",
    "        'User-Agent': ua.random\n",
    "    }\n",
    "    \n",
    "    cookies = {\n",
    "        'mg_geo_id': f'{city_code}'\n",
    "    }\n",
    "    \n",
    "    response = requests.get(url='https://magnit.ru/promo/', headers=headers, cookies=cookies)\n",
    "    \n",
    "    # with open(f'index.html', 'w') as file:\n",
    "    #     file.write(response.text)\n",
    "    \n",
    "    # with open('index.html') as file:\n",
    "    #     src = file.read()\n",
    "        \n",
    "    soup = BeautifulSoup(response.text, 'lxml')\n",
    "    \n",
    "    city = soup.find('a', class_='header__contacts-link_city').text.strip()\n",
    "    cards = soup.find_all('a', class_='card-sale_catalogue')\n",
    "    # print(city, len(cards))\n",
    "    \n",
    "    data = []\n",
    "    for card in cards:\n",
    "        card_title = card.find('div', class_='card-sale__title').text.strip()\n",
    "        \n",
    "        try:\n",
    "            card_discount = card.find('div', class_='card-sale__discount').text.strip()\n",
    "        except AttributeError:\n",
    "            continue\n",
    "        \n",
    "        \n",
    "        card_price_old_integer = card.find('div', class_='label__price_old').find('span', class_='label__price-integer').text.strip()\n",
    "        card_price_old_decimal = card.find('div', class_='label__price_old').find('span', class_='label__price-decimal').text.strip()\n",
    "        card_old_price = f'{card_price_old_integer}.{card_price_old_decimal}'\n",
    "        \n",
    "        card_price_integer = card.find('div', class_='label__price_new').find('span', class_='label__price-integer').text.strip()\n",
    "        card_price_decimal = card.find('div', class_='label__price_new').find('span', class_='label__price-decimal').text.strip()\n",
    "        card_price = f'{card_price_integer}.{card_price_decimal}'\n",
    "        \n",
    "        card_sale_date = card.find('div', class_='card-sale__date').text.strip().replace('\\n', ' ')\n",
    "        # print(card_sale_date)\n",
    "        \n",
    "        data.append(\n",
    "            [card_title, card_discount, card_old_price, card_price, card_sale_date]\n",
    "        )\n",
    "        \n",
    "    with open(f'{city}_{cur_time}.csv', 'w') as file:\n",
    "        writer = csv.writer(file)\n",
    "        \n",
    "        writer.writerow(\n",
    "            [\n",
    "                'Продукт',\n",
    "                'Старая цена',\n",
    "                'Новая цена',\n",
    "                'Процент скидки',\n",
    "                'Время акции',\n",
    "            ]\n",
    "        )\n",
    "        writer.writerows(\n",
    "            data\n",
    "        )\n",
    "            \n",
    "    print(f'Файл {city}_{cur_time}.csv успешно записан!')\n",
    "        "
   ]
  },
  {
   "cell_type": "code",
   "execution_count": null,
   "metadata": {},
   "outputs": [],
   "source": [
    "def main():\n",
    "    collect_data(city_code='2398')\n",
    "    \n",
    "    \n",
    "if __name__ == '__main__':\n",
    "    main()"
   ]
  }
 ],
 "metadata": {
  "kernelspec": {
   "display_name": "Python 3",
   "language": "python",
   "name": "python3"
  },
  "language_info": {
   "codemirror_mode": {
    "name": "ipython",
    "version": 3
   },
   "file_extension": ".py",
   "mimetype": "text/x-python",
   "name": "python",
   "nbconvert_exporter": "python",
   "pygments_lexer": "ipython3",
   "version": "3.6.12"
  }
 },
 "nbformat": 4,
 "nbformat_minor": 4
}
